{
 "cells": [
  {
   "cell_type": "code",
   "execution_count": 5,
   "metadata": {},
   "outputs": [],
   "source": [
    "import openai\n",
    "import os\n",
    "os.environ['API_KEY'] = open(\"openAI.key\").read()\n",
    "openai.api_key = os.getenv(\"API_KEY\")"
   ]
  },
  {
   "cell_type": "code",
   "execution_count": 3,
   "metadata": {},
   "outputs": [
    {
     "name": "stdout",
     "output_type": "stream",
     "text": [
      "Create a compelling product description for an item named Super Box-Cutting Knife, which falls under the category of Tools & Home Improvment The product has the following features: blades that last up to 10 years. ergonomic handle. 12 knife heads. Nasa-engineered. Example: The Toolfix Drill is a tool that every home needs. It's cordless and powered by a potent 18V battery, making it versatile and easy to use anywhere. Despite its nowerful performance, it's surprisingly lightweight, making it suitable for long hours of work. Its durability ensures it can handle any task you throw at it, making it a long-lasting addition to your tool collection. \n"
     ]
    }
   ],
   "source": [
    "def create_prompt(product_name, product_category, product_features, example_description):\n",
    "    instructions = f'Create a compelling product description for an item named {product_name}, which falls under the category of {product_category}'\n",
    "    details = f'The product has the following features: {product_features}'\n",
    "    prompt = f'{instructions} {details} {example_description}'\n",
    "    return prompt\n",
    "product_name = 'Super Box-Cutting Knife'\n",
    "product_category = 'Tools & Home Improvment'\n",
    "product_features = 'blades that last up to 10 years. ergonomic handle. 12 knife heads. Nasa-engineered.'\n",
    "example_description = (\"Example: The Toolfix Drill is a tool that every home needs. \"\n",
    "                        \"It's cordless and powered by a potent 18V battery, \"\n",
    "                        \"making it versatile and easy to use anywhere. Despite its nowerful performance, \"\n",
    "                        \"it's surprisingly lightweight, making it suitable for long hours of work. \"\n",
    "                        \"Its durability ensures it can handle any task you throw at it, \"\n",
    "                        \"making it a long-lasting addition to your tool collection. \"\n",
    "                    )\n",
    "\n",
    "print(create_prompt(product_name, product_category, product_features, example_description))"
   ]
  },
  {
   "cell_type": "code",
   "execution_count": 6,
   "metadata": {},
   "outputs": [
    {
     "name": "stdout",
     "output_type": "stream",
     "text": [
      "\n",
      "\n",
      "Introducing the Super Box-Cutting Knife, the ultimate tool for all those difficult cutting tasks! Constructed with NASA-engineered blades, it offers you a lasting precision and the best cutting experience. Crafted with an ergonomic handle and 12 knife heads, the Super Box-Cutting Knife makes sure you are safe and comfortable as you work. Plus, its blades are made to last up to 10 years, so it can be a part of your tool collection for years to come! Get your Super Box-Cutting Knife today and find out how maximum cutting efficiency can be yours!\n"
     ]
    }
   ],
   "source": [
    "response = openai.Completion.create(\n",
    "    engine=\"text-davinci-003\",\n",
    "    prompt=create_prompt(product_name, product_category, product_features, example_description),\n",
    "    max_tokens=256\n",
    ")\n",
    "print(response['choices'][0]['text'])"
   ]
  }
 ],
 "metadata": {
  "kernelspec": {
   "display_name": "Python 3",
   "language": "python",
   "name": "python3"
  },
  "language_info": {
   "codemirror_mode": {
    "name": "ipython",
    "version": 3
   },
   "file_extension": ".py",
   "mimetype": "text/x-python",
   "name": "python",
   "nbconvert_exporter": "python",
   "pygments_lexer": "ipython3",
   "version": "3.9.6"
  },
  "orig_nbformat": 4
 },
 "nbformat": 4,
 "nbformat_minor": 2
}
