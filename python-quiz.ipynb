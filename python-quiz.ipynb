{
 "cells": [
  {
   "cell_type": "code",
   "execution_count": 10,
   "metadata": {},
   "outputs": [],
   "source": [
    "import openai\n",
    "import os"
   ]
  },
  {
   "cell_type": "code",
   "execution_count": 11,
   "metadata": {},
   "outputs": [],
   "source": [
    "os.environ['API_KEY'] = open(\"openAI.key\").read()\n",
    "openai.api_key = os.getenv(\"API_KEY\")"
   ]
  },
  {
   "cell_type": "markdown",
   "metadata": {},
   "source": [
    "# Basic Prompt"
   ]
  },
  {
   "cell_type": "code",
   "execution_count": 8,
   "metadata": {},
   "outputs": [],
   "source": [
    "basic_prompt = \"python quiz. 5 questions. 4 options each\""
   ]
  },
  {
   "cell_type": "code",
   "execution_count": 12,
   "metadata": {},
   "outputs": [
    {
     "name": "stdout",
     "output_type": "stream",
     "text": [
      "\n",
      "\n",
      "Q1. What is the output of the following code?\n",
      "\n",
      "A=4\n",
      "B=4\n",
      "\n",
      "print(A + B)\n",
      "\n",
      "A. 8 \n",
      "B. 16 \n",
      "C. 4 \n",
      "D. None of the above\n",
      "\n",
      "Answer: A. 8\n"
     ]
    }
   ],
   "source": [
    "response = openai.Completion.create(\n",
    "    engine=\"text-davinci-003\",\n",
    "    prompt=basic_prompt,\n",
    "    max_tokens=256\n",
    ")\n",
    "print(response['choices'][0]['text'])"
   ]
  },
  {
   "cell_type": "markdown",
   "metadata": {},
   "source": [
    "# Refined Prompt"
   ]
  },
  {
   "cell_type": "code",
   "execution_count": 7,
   "metadata": {},
   "outputs": [],
   "source": [
    "instructions = 'Create a multiple choice quiz on the topic of Python.'\n",
    "details = 'The quiz should consist of 5 questions. Each question should have 4 options, with one possible correct answer.'\n",
    "refined_prompt = f\"{instructions} {details}\""
   ]
  },
  {
   "cell_type": "code",
   "execution_count": null,
   "metadata": {},
   "outputs": [],
   "source": [
    "response = openai.Completion.create(\n",
    "    engine=\"text-davinci-003\",\n",
    "    prompt=refined_prompt,\n",
    "    max_tokens=256\n",
    ")"
   ]
  },
  {
   "cell_type": "code",
   "execution_count": 19,
   "metadata": {},
   "outputs": [
    {
     "name": "stdout",
     "output_type": "stream",
     "text": [
      "\n",
      "\n",
      "1. What is the syntax for a loop in Python?\n",
      "A) for (i=0; i<n; i++)\n",
      "B) for i in range(n)\n",
      "C) while (i<n)\n",
      "D) for i==n\n",
      "\n",
      "Answer: B) for in range(n)\n",
      "\n",
      "2. How do you print output to the console in Python?\n",
      "A) puts()\n",
      "B) return()\n",
      "C) printf()\n",
      "D) print()\n",
      "\n",
      "Answer: D) print()\n",
      "\n",
      "3. What type of data structure is a list in Python?\n",
      "A) Hash Table\n",
      "B) Stack\n",
      "C) Queue \n",
      "D) Array\n",
      "\n",
      "Answer: D) Array\n",
      "\n",
      "4. What is the preferred method for importing modules in Python?\n",
      "A) #include\n",
      "B) import\n",
      "C) using\n",
      "D) require\n",
      "\n",
      "Answer: B) import\n",
      "\n",
      "5. What is the syntax for writing a comment in Python?\n",
      "A) !\n",
      "B) //\n",
      "C) /**/\n",
      "D) #\n",
      "\n",
      "Answer: D) #\n"
     ]
    }
   ],
   "source": [
    "print(response['choices'][0]['text'])"
   ]
  },
  {
   "cell_type": "markdown",
   "metadata": {},
   "source": [
    "# Refined Prompt with Example"
   ]
  },
  {
   "cell_type": "code",
   "execution_count": 8,
   "metadata": {},
   "outputs": [],
   "source": [
    "example = ('For example, \"What is the correct way to define a function in Python?\" '\n",
    "    'Options are: 1) \"define my_function()\", 2) \"func my_function()\", '\n",
    "    '3) \"def my_function():\", 4) \"function my_function(): '\n",
    "    'Correct Answer: \"def my_function')\n",
    "exampled_prompt = f\"{instructions} {details} {example}\""
   ]
  },
  {
   "cell_type": "code",
   "execution_count": 15,
   "metadata": {},
   "outputs": [
    {
     "name": "stdout",
     "output_type": "stream",
     "text": [
      "():\"\n",
      "\n",
      "1. What is the keyword to end a loop block in Python?\n",
      "  Options:\n",
      "  1) continue\n",
      "  2) endloop\n",
      "  3) break\n",
      "  4) terminate \n",
      "  Correct Answer: 3) break\n",
      "\n",
      "2. To concatenate two strings together in Python, which operator should be used? \n",
      "  Options: \n",
      "  1) //\n",
      "  2) -\n",
      "  3) *\n",
      "  4) +\n",
      "  Correct Answer: 4) +\n",
      "\n",
      "3. From the following, which is NOT a valid data type in Python?\n",
      "  Options:\n",
      "  1) List\n",
      "  2) String\n",
      "  3) Integer\n",
      "  4) Function\n",
      "  Correct Answer: 4) Function\n",
      "\n",
      "4. When is an else block in an if statement executed? \n",
      "  Options:\n",
      "  1) After the condition evaluates to false \n",
      "  2) After the condition evaluates to true\n",
      "  3) Before the condition evaluates \n",
      "  4) Before the condition evaluates to false \n",
      "  Correct Answer: 1) After the condition evaluates to false \n",
      "\n",
      "5. How is an exception in Python handled? \n",
      "  Options:\n",
      "  1) With try-except clause \n",
      "  2) With raise keyword \n",
      "  3) With break keyword \n",
      "  4) With continue keyword\n",
      "  Correct Answer: 1) With try-except clause\n"
     ]
    }
   ],
   "source": [
    "response = openai.Completion.create(\n",
    "    engine=\"text-davinci-003\",\n",
    "    prompt=exampled_prompt,\n",
    "    max_tokens=500\n",
    ")\n",
    "print(response['choices'][0]['text'])"
   ]
  },
  {
   "cell_type": "markdown",
   "metadata": {},
   "source": [
    "# Dynamic Prompt Generation"
   ]
  },
  {
   "cell_type": "code",
   "execution_count": null,
   "metadata": {},
   "outputs": [],
   "source": [
    "def create_prompt(topic, num_qs, num_possible_answers):\n",
    "    instructions = f'Create a multiple choice quiz on the topic of {topic}.'\n",
    "    details = f'The quiz should consist of {num_qs} questions. Each question should have {num_possible_answers} options, with one possible correct answer.'\n",
    "    example = ('For example, \"What is the correct way to define a function in Python?\" '\n",
    "    'Options are: 1) \"define my_function()\", 2) \"func my_function()\", '\n",
    "    '3) \"def my_function():\", 4) \"function my_function(): '\n",
    "    'Correct Answer: \"def my_function')\n",
    "    "
   ]
  },
  {
   "cell_type": "markdown",
   "metadata": {},
   "source": [
    "# Refine with Direct & Quantitative principles"
   ]
  },
  {
   "cell_type": "code",
   "execution_count": 18,
   "metadata": {},
   "outputs": [],
   "source": [
    "direct = 'the quiz should be challenging but not overly complex, the correct answer should be selected randomly from the available answers.'\n",
    "quantitative = 'Each question should have a difficulty level of 7 on a scale of 1 to 10.'\n",
    "\n",
    "final_prompt = f\"{instructions} {details} {example} {direct} {quantitative}\"\n"
   ]
  },
  {
   "cell_type": "code",
   "execution_count": 19,
   "metadata": {},
   "outputs": [
    {
     "name": "stdout",
     "output_type": "stream",
     "text": [
      "\n",
      "\n",
      "1. What data type is used to store a collection of data in Python? \n",
      "a) list\n",
      "b) dictionary\n",
      "c) set\n",
      "d) tuple \n",
      "Correct Answer: a) list\n",
      "\n",
      "2. How can you check the type of a variable in Python? \n",
      "a) type()\n",
      "b) print()\n",
      "c) len()\n",
      "d) eval()\n",
      "Correct Answer: a) type()\n",
      "\n",
      "3. What is the correct syntax for writing an if statement in Python?\n",
      "a) if (condition):\n",
      "b) switch (condition):\n",
      "c) if condition\n",
      "d) if condition:\n",
      "Correct Answer: d) if condition:\n",
      "\n",
      "4. What type of loop is used to iterate over the items of a list? \n",
      "a) for loop\n",
      "b) do-while loop\n",
      "c) while loop\n",
      "d) repeat loop\n",
      "Correct Answer: a) for loop\n",
      "\n",
      "5. How do you delete an item from a given dictionary in Python?\n",
      "a) delete()\n",
      "b) del\n",
      "c) remove()\n",
      "d) pop()\n",
      "Correct Answer: b) del\n"
     ]
    }
   ],
   "source": [
    "response = openai.Completion.create(\n",
    "    engine=\"text-davinci-003\",\n",
    "    prompt=final_prompt,\n",
    "    max_tokens=500\n",
    ")\n",
    "print(response['choices'][0]['text'])"
   ]
  },
  {
   "cell_type": "markdown",
   "metadata": {},
   "source": [
    "note: in some cases the number of possible answers will not change from the generic answer when changed. In this we can try repeating the instructions again at the end of your full prompt to correct this. i.e. instructions + details + example + diret + quantitative + instructions"
   ]
  }
 ],
 "metadata": {
  "kernelspec": {
   "display_name": "Python 3",
   "language": "python",
   "name": "python3"
  },
  "language_info": {
   "codemirror_mode": {
    "name": "ipython",
    "version": 3
   },
   "file_extension": ".py",
   "mimetype": "text/x-python",
   "name": "python",
   "nbconvert_exporter": "python",
   "pygments_lexer": "ipython3",
   "version": "3.9.6"
  },
  "orig_nbformat": 4
 },
 "nbformat": 4,
 "nbformat_minor": 2
}
