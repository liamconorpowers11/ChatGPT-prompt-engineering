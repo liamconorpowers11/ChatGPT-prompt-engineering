{
 "cells": [
  {
   "cell_type": "code",
   "execution_count": 5,
   "metadata": {},
   "outputs": [],
   "source": [
    "import openai\n",
    "import os\n",
    "os.environ['API_KEY'] = open(\"openAI.key\").read()\n",
    "openai.api_key = os.getenv(\"API_KEY\")"
   ]
  },
  {
   "cell_type": "markdown",
   "metadata": {},
   "source": [
    "# Basic Prompt"
   ]
  },
  {
   "cell_type": "code",
   "execution_count": 8,
   "metadata": {},
   "outputs": [],
   "source": [
    "instructions = 'Write me a short story about a rabbit named bob who lives in a forest.'"
   ]
  },
  {
   "cell_type": "code",
   "execution_count": 4,
   "metadata": {},
   "outputs": [
    {
     "name": "stdout",
     "output_type": "stream",
     "text": [
      "\n",
      "\n",
      "Once upon a time in a small forest, there lived a bunny named Bob. He lived a solitary life, content to travel the forest by himself and see what surprises it had in store.\n",
      "\n",
      "Bob was an adventurous bunny and he spent a lot of his time exploring - he liked to find hidden paths and burrows that even the other animals didn’t know about.\n",
      "\n",
      "One day, Bob came across a strange and beautiful clearing in the forest. It had strange blue flowers growing everywhere and the air was still and peaceful.\n",
      "\n",
      "Overcome by curiosity, Bob decided to investigate the clearing further. He was wowed by the variety of animals he saw there - birds of every color and size, dolphins that came right up to shore, and even a friendly family of deer.\n",
      "\n",
      "Bob was so enamored with the clearing he decided to make his home there. He found a cozy spot underneath some bushes where he could make his nest and soon he was living a life of luxury.\n",
      "\n",
      "Every day he said hello to the deer family, played tag with the dolphins and watched the birds and butterflies fluttering around. It was the best kind of life for a rabbit.\n",
      "\n",
      "Bob was living the dream and he never wanted to leave. The forest was now his home and it would remain his home until his last breath.\n"
     ]
    }
   ],
   "source": [
    "response = openai.Completion.create(\n",
    "    engine='text-davinci-003',\n",
    "    prompt=instructions,\n",
    "    max_tokens=500\n",
    ")\n",
    "print(response['choices'][0]['text'])"
   ]
  },
  {
   "cell_type": "markdown",
   "metadata": {},
   "source": [
    "# Prompt + Details"
   ]
  },
  {
   "cell_type": "code",
   "execution_count": null,
   "metadata": {},
   "outputs": [],
   "source": [
    "details = 'Bob is a detective and is solving a crime. The priod of the story should be set in the Edwardian era.'\n",
    "prompt = f\"{instructions} {details}\""
   ]
  },
  {
   "cell_type": "code",
   "execution_count": 9,
   "metadata": {},
   "outputs": [
    {
     "name": "stdout",
     "output_type": "stream",
     "text": [
      "\n",
      "\n",
      "Once upon a time, there lived a stately rabbit named Bob who made his home beneath the tall trees of an enchanted forest. Bob was clever and quick, and somehow managed to avoid the eyes of human predators. He was wise beyond his years, and used his keen sense of smell to alert him to potential danger.\n",
      "\n",
      "One day, Bob ventured farther from the safety of his home. His bright eyes scanned the terrain for signs of danger and he quickly hopped away when he saw a frightening fox lurking in the shadows. As he leapt across the forest, he heard voices— humans! Willing his heart to slow down, he crept closer, still wary of potential danger.\n",
      "\n",
      "He peered through the bushes and saw two children playing, picking up stones and shells. One of them reached down and scooped up Bob in her small hands. Without fear, Bob gazed into the child’s eyes with a profound understanding that she meant him no harm.\n",
      "\n",
      "The child and her friend went on to carefully make Bob a home in the hollow of a nearby tree. They fashioned a bed of leaves for him and provided him with food and treats each day. Bob quickly made the children his friends-he had found his first family.\n",
      "\n",
      "Bob spent his days frolicking in the far reaches of the enchanted forest and sleeping in his cozy tree hollow. Occasionally, late in the evening, he would venture out of his safe haven to search for carrots and to check in on his human friends. Bob’s life was simple, but oh so sweet-a true piece of paradise in the forest he called home.\n"
     ]
    }
   ],
   "source": [
    "response = openai.Completion.create(\n",
    "    engine='text-davinci-003',\n",
    "    prompt=prompt,\n",
    "    max_tokens=500\n",
    ")\n",
    "print(response['choices'][0]['text'])"
   ]
  },
  {
   "cell_type": "code",
   "execution_count": 10,
   "metadata": {},
   "outputs": [
    {
     "name": "stdout",
     "output_type": "stream",
     "text": [
      "\n",
      "\n",
      "Bob the rabbit lived in a beautiful forest filled with lush vegetation, fresh water streams and lots of places to hide. He enjoyed the peace and tranquility of the forest, and spent his days wandering around looking for food, relaxing in the sunshine and socializing with the other animals.\n",
      "\n",
      "One day, Bob and his friends were out having a good time, when they heard a strange sound coming from the far side of the forest. They all stopped to take a closer look and discovered an ominous-looking building tucked away in the shadows. Bob was curious, and after a lot of convincing, he finally decided to venture inside.\n",
      "\n",
      "He trotted into the building and discovered a large room with dark red walls and a low ceiling. In one corner he found a chair, but instead of a seat it had something else sitting atop it. Bob slowly hopped closer to get a better look, and saw a book with a strange symbol on its cover.\n",
      "\n",
      "Bob was intrigued by the book, but before he had a chance to investigate, he heard a loud voice from the other side of the room. He turned to see a humanoid figure standing a few paces away. The figure spoke in a raspy voice.\n",
      "\n",
      "\"What are you doing in my home, Bob the rabbit?\" The figure asked.\n",
      "\n",
      "Bob was too scared to even reply, so the figure continued.\n",
      "\n",
      "\"I am the wizard who guards this forest, and I've been watching you for some time now. You seem to be a rabbit of intelligence and courage,\" he said kindly.\n",
      "\n",
      "Bob finally found his voice and said, \"I wanted to find out what was inside this building and who owns it.\"\n",
      "\n",
      "The wizard nodded and said, \"Very well then. If you can help me protect this forest from its enemies, I will grant you the knowledge of the book that lies atop this chair. Agreed?\"\n",
      "\n",
      "Bob needed no thought, and he immediately nodded his acceptance.\n",
      "\n",
      "So Bob the rabbit joined forces with the wizard, and together they fought off the forces of darkness that threatened their beloved forest. And every night, Bob read from the book to gain knowledge of how to effectively protect the forest and its inhabitants.\n",
      "\n",
      "Bob the rabbit may have been small and frightened at first, but with courage and intelligence, he was able to save the forest and learn the secrets of the magic it held.\n"
     ]
    }
   ],
   "source": [
    "response = openai.Completion.create(\n",
    "    engine='text-davinci-003',\n",
    "    prompt=prompt,\n",
    "    max_tokens=500\n",
    ")\n",
    "print(response['choices'][0]['text'])"
   ]
  }
 ],
 "metadata": {
  "kernelspec": {
   "display_name": "Python 3",
   "language": "python",
   "name": "python3"
  },
  "language_info": {
   "codemirror_mode": {
    "name": "ipython",
    "version": 3
   },
   "file_extension": ".py",
   "mimetype": "text/x-python",
   "name": "python",
   "nbconvert_exporter": "python",
   "pygments_lexer": "ipython3",
   "version": "3.9.6"
  },
  "orig_nbformat": 4
 },
 "nbformat": 4,
 "nbformat_minor": 2
}
